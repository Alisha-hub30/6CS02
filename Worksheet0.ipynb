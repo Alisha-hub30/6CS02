{
 "cells": [
  {
   "cell_type": "code",
   "execution_count": null,
   "id": "50bc4301-b1ee-4b34-82b1-1437d32e0379",
   "metadata": {},
   "outputs": [],
   "source": [
    "# 4.1 Exercise on Functions:"
   ]
  },
  {
   "cell_type": "code",
   "execution_count": null,
   "id": "73023aef-bba3-402a-b92e-55b5ee3a49a3",
   "metadata": {},
   "outputs": [],
   "source": [
    "# Task - 1:"
   ]
  },
  {
   "cell_type": "code",
   "execution_count": null,
   "id": "a6afb28c-22a3-4442-99c9-5df4695e9203",
   "metadata": {},
   "outputs": [],
   "source": [
    "# Create a Python program that converts between different units of measurement."
   ]
  },
  {
   "cell_type": "code",
   "execution_count": 15,
   "id": "b681edfc-5396-417b-abd8-a7d04cd545ba",
   "metadata": {},
   "outputs": [
    {
     "name": "stdout",
     "output_type": "stream",
     "text": [
      "Select a category to convert:\n",
      "1. Length\n",
      "2. Weight\n",
      "3. Volume\n"
     ]
    },
    {
     "name": "stdin",
     "output_type": "stream",
     "text": [
      "Enter your choice (1/2/3):  1\n"
     ]
    },
    {
     "name": "stdout",
     "output_type": "stream",
     "text": [
      "1. Meters to Feet\n",
      "2. Feet to Meters\n"
     ]
    },
    {
     "name": "stdin",
     "output_type": "stream",
     "text": [
      "Choose conversion type (1/2):  1\n",
      "Enter the value:  25\n"
     ]
    },
    {
     "name": "stdout",
     "output_type": "stream",
     "text": [
      "25.0 meters is 82.02 feet.\n"
     ]
    }
   ],
   "source": [
    "def unit_converter():\n",
    "    \"\"\"\n",
    "    A unit converter that allows the user to convert between different units of length, weight, and volume.\n",
    "    Ask the user to input the value to be converted and display the result afterward.\n",
    "    Handle error using try-except block.\n",
    "    \"\"\"\n",
    "    \n",
    "    def to_feet(meters):\n",
    "        \"\"\"Convert meters to feet.\"\"\"\n",
    "        return meters * 3.28084\n",
    "    \n",
    "    def to_meters(feet):\n",
    "        \"\"\"Convert feet to meters.\"\"\"\n",
    "        return feet / 3.28084\n",
    "    \n",
    "    def to_pounds(kg):\n",
    "        \"\"\"Convert kilograms to pounds.\"\"\"\n",
    "        return kg * 2.20462\n",
    "    \n",
    "    def to_kg(pounds):\n",
    "        \"\"\"Convert pounds to kilograms.\"\"\"\n",
    "        return pounds / 2.20462\n",
    "    \n",
    "    def to_gallons(liters):\n",
    "        \"\"\"Convert liters to gallons.\"\"\"\n",
    "        return liters * 0.264172\n",
    "    \n",
    "    def to_liters(gallons):\n",
    "        \"\"\"Convert gallons to liters.\"\"\"\n",
    "        return gallons / 0.264172\n",
    "\n",
    "    print(\"Select a category to convert:\") \n",
    "    print(\"1. Length\\n2. Weight\\n3. Volume\")\n",
    "    \n",
    "    try:\n",
    "        category = input(\"Enter your choice (1/2/3): \")\n",
    "        \n",
    "        if category == \"1\":\n",
    "            print(\"1. Meters to Feet\\n2. Feet to Meters\")\n",
    "            option = input(\"Choose conversion type (1/2): \")\n",
    "            value = float(input(\"Enter the value: \"))\n",
    "            \n",
    "            if option == \"1\":\n",
    "                print(f\"{value} meters is {to_feet(value):.2f} feet.\")\n",
    "            elif option == \"2\":\n",
    "                print(f\"{value} feet is {to_meters(value):.2f} meters.\")\n",
    "            else:\n",
    "                print(\"Invalid selection.\")\n",
    "        \n",
    "        elif category == \"2\":\n",
    "            print(\"1. Kilograms to Pounds\\n2. Pounds to Kilograms\")\n",
    "            option = input(\"Choose conversion type (1/2): \")\n",
    "            value = float(input(\"Enter the value: \"))\n",
    "            \n",
    "            if option == \"1\":\n",
    "                print(f\"{value} kg is {to_pounds(value):.2f} lbs.\")\n",
    "            elif option == \"2\":\n",
    "                print(f\"{value} lbs is {to_kg(value):.2f} kg.\")\n",
    "            else:\n",
    "                print(\"Invalid selection.\")\n",
    "        \n",
    "        elif category == \"3\":\n",
    "            print(\"1. Liters to Gallons\\n2. Gallons to Liters\")\n",
    "            option = input(\"Choose conversion type (1/2): \")\n",
    "            value = float(input(\"Enter the value: \"))\n",
    "            \n",
    "            if option == \"1\":\n",
    "                print(f\"{value} liters is {to_gallons(value):.2f} gallons.\")\n",
    "            elif option == \"2\":\n",
    "                print(f\"{value} gallons is {to_liters(value):.2f} liters.\")\n",
    "            else:\n",
    "                print(\"Invalid selection.\")\n",
    "        else:\n",
    "            print(\"Invalid category choice.\")\n",
    "    \n",
    "    except ValueError:\n",
    "        print(\"Invalid input. Please enter a numeric value.\")\n",
    "\n",
    "unit_converter()"
   ]
  },
  {
   "cell_type": "code",
   "execution_count": null,
   "id": "8d315fb1-7f4c-4801-9801-506ce7e7abe7",
   "metadata": {},
   "outputs": [],
   "source": [
    "# Task - 2:"
   ]
  },
  {
   "cell_type": "code",
   "execution_count": null,
   "id": "e5438efd-0ca7-49dd-9058-7d7c9f3f0441",
   "metadata": {},
   "outputs": [],
   "source": [
    "# Create a Python program that performs various mathematical operations on a list of numbers."
   ]
  },
  {
   "cell_type": "code",
   "execution_count": 21,
   "id": "792ecc64-c4d3-429a-a0a2-6664154ce5e8",
   "metadata": {},
   "outputs": [
    {
     "name": "stdout",
     "output_type": "stream",
     "text": [
      "Select an operation:\n",
      "1. Sum of numbers\n",
      "2. Average of numbers\n",
      "3. Maximum value\n",
      "4. Minimum value\n"
     ]
    },
    {
     "name": "stdin",
     "output_type": "stream",
     "text": [
      "Enter your choice (1/2/3/4):  4\n",
      "Provide numbers separated by spaces:  1 2 3 4 5 \n"
     ]
    },
    {
     "name": "stdout",
     "output_type": "stream",
     "text": [
      "Smallest number: 1.0\n"
     ]
    }
   ],
   "source": [
    "def perform_math_operations():\n",
    "    \"\"\"\n",
    "    Performs different mathematical calculations on a list of numbers.\n",
    "    Ask the user to input a list of numbers and perform and display the result afterward.\n",
    "    The function handles invalid inputs and ensures the program doesn't crash.\n",
    "    \"\"\"\n",
    "\n",
    "    def get_sum(numbers):\n",
    "        return sum(numbers)\n",
    "\n",
    "    def get_average(numbers):\n",
    "        return sum(numbers) / len(numbers) if numbers else 0\n",
    "\n",
    "    def get_maximum(numbers):\n",
    "        return max(numbers)\n",
    "\n",
    "    def get_minimum(numbers):\n",
    "        return min(numbers)\n",
    "\n",
    "    print(\"Select an operation:\")\n",
    "    print(\"1. Sum of numbers\")\n",
    "    print(\"2. Average of numbers\")\n",
    "    print(\"3. Maximum value\")\n",
    "    print(\"4. Minimum value\")\n",
    "\n",
    "    operation = input(\"Enter your choice (1/2/3/4): \")\n",
    "\n",
    "    try:\n",
    "        \"\"\" Get user input and convert to a list of floats\"\"\"\n",
    "        numbers = [float(num) for num in input(\"Provide numbers separated by spaces: \").split()]\n",
    "        if not numbers:\n",
    "            print(\"Error: The list of numbers cannot be empty.\")\n",
    "            return\n",
    "    except ValueError:\n",
    "        print(\"Error: Please input valid numeric values.\")\n",
    "        return\n",
    "\n",
    "    if operation == \"1\":\n",
    "        result = get_sum(numbers)\n",
    "        print(f\"Total sum: {result}\")\n",
    "    elif operation == \"2\":\n",
    "        result = get_average(numbers)\n",
    "        print(f\"Average value: {result}\")\n",
    "    elif operation == \"3\":\n",
    "        result = get_maximum(numbers)\n",
    "        print(f\"Largest number: {result}\")\n",
    "    elif operation == \"4\":\n",
    "        result = get_minimum(numbers)\n",
    "        print(f\"Smallest number: {result}\")\n",
    "    else:\n",
    "        print(\"Invalid operation selected. Please choose a valid option.\")\n",
    "\n",
    "perform_math_operations()"
   ]
  },
  {
   "cell_type": "code",
   "execution_count": 23,
   "id": "6e661ec4-5429-4827-8240-8f631162b3aa",
   "metadata": {},
   "outputs": [],
   "source": [
    "# 4.2 Exercise on List Manipulation:"
   ]
  },
  {
   "cell_type": "code",
   "execution_count": null,
   "id": "ee31a906-d68c-4794-85d0-a5505913e89c",
   "metadata": {},
   "outputs": [],
   "source": [
    "# 1. Extract Every Other Element:\n",
    "# # Write a Python function that extracts every other element from a list, starting from the first element."
   ]
  },
  {
   "cell_type": "code",
   "execution_count": 25,
   "id": "30f63682-0676-4cfe-9c88-844330f67aa6",
   "metadata": {},
   "outputs": [
    {
     "name": "stdout",
     "output_type": "stream",
     "text": [
      "[1, 3, 5]\n"
     ]
    }
   ],
   "source": [
    "def extract_every_other(lst):\n",
    "    return lst[::2]\n",
    "\n",
    "# Example usage:\n",
    "input_list = [1, 2, 3, 4, 5, 6]\n",
    "result = extract_every_other(input_list)\n",
    "print(result)  # Output: [1, 3, 5]"
   ]
  },
  {
   "cell_type": "code",
   "execution_count": 27,
   "id": "7f728e30-1d82-4119-910c-4160048c081d",
   "metadata": {},
   "outputs": [],
   "source": [
    "# 2. Slice a Sublist:\n",
    "# Write a Python function that returns a sublist from a given list, starting from a specified index and\n",
    "# ending at another specified index."
   ]
  },
  {
   "cell_type": "code",
   "execution_count": 29,
   "id": "a9e2c027-8311-4826-940d-b8308be50a16",
   "metadata": {},
   "outputs": [
    {
     "name": "stdout",
     "output_type": "stream",
     "text": [
      "[3, 4, 5]\n"
     ]
    }
   ],
   "source": [
    "def get_sublist(lst, start, end):\n",
    "    return lst[start:end + 1]\n",
    "\n",
    "# Example usage:\n",
    "input_list = [1, 2, 3, 4, 5, 6]\n",
    "start_index = 2\n",
    "end_index = 4\n",
    "result = get_sublist(input_list, start_index, end_index)\n",
    "print(result)  # Output: [3, 4, 5]"
   ]
  },
  {
   "cell_type": "code",
   "execution_count": 31,
   "id": "814386f7-7d8a-4448-aa48-ac52c4a4078d",
   "metadata": {},
   "outputs": [],
   "source": [
    "# 3. Reverse a List Using Slicing:\n",
    "# Write a Python function that reverses a list using slicing."
   ]
  },
  {
   "cell_type": "code",
   "execution_count": 33,
   "id": "b0951ff6-9f1e-4d1a-812e-655d01935cd4",
   "metadata": {},
   "outputs": [
    {
     "name": "stdout",
     "output_type": "stream",
     "text": [
      "[5, 4, 3, 2, 1]\n"
     ]
    }
   ],
   "source": [
    "def reverse_list(lst):\n",
    "    return list(reversed(lst))\n",
    "\n",
    "# Example usage:\n",
    "input_list = [1, 2, 3, 4, 5]\n",
    "result = reverse_list(input_list)\n",
    "print(result)  # Output: [5, 4, 3, 2, 1]"
   ]
  },
  {
   "cell_type": "code",
   "execution_count": 35,
   "id": "2570314b-08f9-4cac-8132-594ffe152b13",
   "metadata": {},
   "outputs": [],
   "source": [
    "# 4. Remove the First and Last Elements:\n",
    "# Write a Python function that removes the first and last elements of a list and returns the resulting\n",
    "# sublist."
   ]
  },
  {
   "cell_type": "code",
   "execution_count": 39,
   "id": "45cf52fb-6cd3-45ae-8759-c78032a0a403",
   "metadata": {},
   "outputs": [
    {
     "name": "stdout",
     "output_type": "stream",
     "text": [
      "[2, 3, 4]\n"
     ]
    }
   ],
   "source": [
    "def remove_first_last(lst):\n",
    "    return lst[1:-1]\n",
    "\n",
    "# Example usage:\n",
    "input_list = [1, 2, 3, 4, 5]\n",
    "result = remove_first_last(input_list)\n",
    "print(result)  # Output: [2, 3, 4]"
   ]
  },
  {
   "cell_type": "code",
   "execution_count": 41,
   "id": "5719d0f5-1142-4462-95d4-ad6971ddddf0",
   "metadata": {},
   "outputs": [],
   "source": [
    "# 5. Get the First n Elements:\n",
    "# Write a Python function that extracts the first n elements from a list."
   ]
  },
  {
   "cell_type": "code",
   "execution_count": 43,
   "id": "dfba16fb-e6ea-4c7c-88c1-593c68dcdc12",
   "metadata": {},
   "outputs": [
    {
     "name": "stdout",
     "output_type": "stream",
     "text": [
      "[1, 2, 3]\n"
     ]
    }
   ],
   "source": [
    "def get_first_n(lst, n):\n",
    "    return lst[:n]\n",
    "\n",
    "# Example usage:\n",
    "input_list = [1, 2, 3, 4, 5]\n",
    "n = 3\n",
    "result = get_first_n(input_list, n)\n",
    "print(result)  # Output: [1, 2, 3]"
   ]
  },
  {
   "cell_type": "code",
   "execution_count": null,
   "id": "cba9dd57-1aac-4dc6-b409-d08cd1fdfecd",
   "metadata": {},
   "outputs": [],
   "source": [
    "# 6. Extract Elements from the End:\n",
    "# # Write a Python function that extracts the last n elements of a list using slicing."
   ]
  },
  {
   "cell_type": "code",
   "execution_count": 45,
   "id": "063e6fff-8f2b-45a7-8b49-a34340f28bb9",
   "metadata": {},
   "outputs": [
    {
     "name": "stdout",
     "output_type": "stream",
     "text": [
      "[4, 5]\n"
     ]
    }
   ],
   "source": [
    "def get_last_n(lst, n):\n",
    "    return lst[-n:]\n",
    "\n",
    "# Example usage:\n",
    "input_list = [1, 2, 3, 4, 5]\n",
    "n = 2\n",
    "result = get_last_n(input_list, n)\n",
    "print(result)  # Output: [4, 5]"
   ]
  },
  {
   "cell_type": "code",
   "execution_count": 47,
   "id": "e6a86b44-d5d5-4b2f-8c2d-4ff0fcc31a92",
   "metadata": {},
   "outputs": [],
   "source": [
    "# 7. Extract Elements in Reverse Order:\n",
    "# Write a Python function that extracts a list of elements in reverse order starting from the second-to-last\n",
    "# element and skipping one element in between."
   ]
  },
  {
   "cell_type": "code",
   "execution_count": 49,
   "id": "9edd241f-c5c4-49b9-a72f-33e74f948258",
   "metadata": {},
   "outputs": [
    {
     "name": "stdout",
     "output_type": "stream",
     "text": [
      "[5, 3, 1]\n"
     ]
    }
   ],
   "source": [
    "def reverse_skip(lst):\n",
    "    return lst[-2::-2]\n",
    "\n",
    "# Example usage:\n",
    "input_list = [1, 2, 3, 4, 5, 6]\n",
    "result = reverse_skip(input_list)\n",
    "print(result)  # Output: [5, 3, 1]"
   ]
  },
  {
   "cell_type": "code",
   "execution_count": 51,
   "id": "174dd8ce-80d0-4e42-a547-0312402d4691",
   "metadata": {},
   "outputs": [],
   "source": [
    "# 4.3 Exercise on Nested List:"
   ]
  },
  {
   "cell_type": "code",
   "execution_count": 53,
   "id": "94b07de6-4625-412d-8e42-0dc6710b8b31",
   "metadata": {},
   "outputs": [],
   "source": [
    "# 1. Flatten a Nested List:\n",
    "# Write a Python function that takes a nested list and flattens it into a single list, where all the elements\n",
    "# # are in a single dimension."
   ]
  },
  {
   "cell_type": "code",
   "execution_count": 61,
   "id": "76c5aefa-72ab-4340-a81a-e7d1a0ea8391",
   "metadata": {},
   "outputs": [
    {
     "name": "stdout",
     "output_type": "stream",
     "text": [
      "[1, 2, 3, 4, 5]\n"
     ]
    }
   ],
   "source": [
    "def flatten(lst):\n",
    "    flattened = []\n",
    "    for item in lst:\n",
    "        if isinstance(item, list):\n",
    "            flattened.extend(flatten(item))\n",
    "        else:\n",
    "            flattened.append(item)\n",
    "    return flattened\n",
    "\n",
    "# Example usage:\n",
    "input_list = [[1, 2], [3, 4], [5]]\n",
    "result = flatten(input_list)\n",
    "print(result)  # Output: [1, 2, 3, 4, 5]"
   ]
  },
  {
   "cell_type": "code",
   "execution_count": 57,
   "id": "d0ccb9c0-fa03-40e4-8a05-755ee44ea218",
   "metadata": {},
   "outputs": [],
   "source": [
    "# 2. Accessing Nested List Elements:\n",
    "# # Write a Python function that extracts a specific element from a nested list given its indices."
   ]
  },
  {
   "cell_type": "code",
   "execution_count": 63,
   "id": "5c55d9f5-7b24-495a-88c0-d32d7f16eccf",
   "metadata": {},
   "outputs": [
    {
     "name": "stdout",
     "output_type": "stream",
     "text": [
      "6\n"
     ]
    }
   ],
   "source": [
    "def access_nested_element(lst, indices):\n",
    "    current = lst\n",
    "    for index in indices:\n",
    "        current = current[index]\n",
    "    return current\n",
    "\n",
    "# Example usage:\n",
    "input_list = [[1, 2, 3], [4, 5, 6], [7, 8, 9]]\n",
    "indices = [1, 2]\n",
    "result = access_nested_element(input_list, indices)\n",
    "print(result)  # Output: 6"
   ]
  },
  {
   "cell_type": "code",
   "execution_count": 65,
   "id": "74a317ac-c965-4365-b7d1-a6e2746f168f",
   "metadata": {},
   "outputs": [],
   "source": [
    "# 3. Sum of All Elements in a Nested List:\n",
    "# Write a Python function that calculates the sum of all the numbers in a nested list (regardless of depth)."
   ]
  },
  {
   "cell_type": "code",
   "execution_count": 67,
   "id": "a7e0ca24-bb20-4277-af9f-3b4fd132d57c",
   "metadata": {},
   "outputs": [
    {
     "name": "stdout",
     "output_type": "stream",
     "text": [
      "21\n"
     ]
    }
   ],
   "source": [
    "def sum_nested(lst):\n",
    "    total = 0\n",
    "    for item in lst:\n",
    "        if isinstance(item, list):\n",
    "            total += sum_nested(item)\n",
    "        else: \n",
    "            total += item\n",
    "    return total\n",
    "\n",
    "# Example usage:\n",
    "input_list = [[1, 2], [3, [4, 5]], 6]\n",
    "result = sum_nested(input_list)\n",
    "print(result)  # Output: 21"
   ]
  },
  {
   "cell_type": "code",
   "execution_count": 69,
   "id": "f5c6cd74-ee5c-4793-9acb-73b305bcc53f",
   "metadata": {},
   "outputs": [],
   "source": [
    "# 4. Remove Specific Element from a Nested List:\n",
    "# Write a Python function that removes all occurrences of a specific element from a nested list."
   ]
  },
  {
   "cell_type": "code",
   "execution_count": 71,
   "id": "212e894e-73c9-4620-b62a-61dc050be8f0",
   "metadata": {},
   "outputs": [
    {
     "name": "stdout",
     "output_type": "stream",
     "text": [
      "[[1], [3], [4, 5]]\n"
     ]
    }
   ],
   "source": [
    "def remove_element(lst, elem):\n",
    "    return [[x for x in sublist if x != elem] for sublist in lst]\n",
    "\n",
    "# Example usage:\n",
    "input_list = [[1, 2], [3, 2], [4, 5]]\n",
    "element_to_remove = 2\n",
    "result = remove_element(input_list, element_to_remove)\n",
    "print(result)  # Output: [[1], [3], [4, 5]]"
   ]
  },
  {
   "cell_type": "code",
   "execution_count": 73,
   "id": "be0df51c-b195-41ce-a6e8-9c3f4079cbc2",
   "metadata": {},
   "outputs": [],
   "source": [
    "# 5. Find the Maximum Element in a Nested List:\n",
    "# Write a Python function that finds the maximum element in a nested list (regardless of depth)."
   ]
  },
  {
   "cell_type": "code",
   "execution_count": 75,
   "id": "09b1905a-c29f-4da2-932d-19144b7b655f",
   "metadata": {},
   "outputs": [
    {
     "name": "stdout",
     "output_type": "stream",
     "text": [
      "6\n"
     ]
    }
   ],
   "source": [
    "def find_max(lst):\n",
    "    max_elem = float('-inf')\n",
    "    for item in lst:\n",
    "        if isinstance(item, list):\n",
    "            max_elem = max(max_elem, find_max(item))\n",
    "        else:\n",
    "            max_elem = max(max_elem, item)\n",
    "    return max_elem\n",
    "\n",
    "# Example usage:\n",
    "input_list = [[1, 2], [3, [4, 5]], 6]\n",
    "result = find_max(input_list)\n",
    "print(result)  # Output: 6"
   ]
  },
  {
   "cell_type": "code",
   "execution_count": 77,
   "id": "34853731-7115-4c01-8496-3abd509be713",
   "metadata": {},
   "outputs": [],
   "source": [
    "# 6. Count Occurrences of an Element in a Nested List:\n",
    "# Write a Python function that counts how many times a specific element appears in a nested list."
   ]
  },
  {
   "cell_type": "code",
   "execution_count": 79,
   "id": "b1937a19-ebfd-4278-a70c-1473058583bb",
   "metadata": {},
   "outputs": [
    {
     "name": "stdout",
     "output_type": "stream",
     "text": [
      "3\n"
     ]
    }
   ],
   "source": [
    "def count_occurrences(lst, elem):\n",
    "    count = 0\n",
    "    for item in lst:\n",
    "        if isinstance(item, list):\n",
    "            count += count_occurrences(item, elem)\n",
    "        elif item == elem: \n",
    "            count += 1\n",
    "    return count\n",
    "\n",
    "# Example usage:\n",
    "input_list = [[1, 2], [2, 3], [2, 4]]\n",
    "element_to_count = 2\n",
    "result = count_occurrences(input_list, element_to_count)\n",
    "print(result)  # Output: 3"
   ]
  },
  {
   "cell_type": "code",
   "execution_count": 81,
   "id": "cd13ba13-70a7-48d1-97c8-6a4366482062",
   "metadata": {},
   "outputs": [],
   "source": [
    "# 7. Flatten a List of Lists of Lists:\n",
    "# Write a Python function that flattens a list of lists of lists into a single list, regardless of the depth."
   ]
  },
  {
   "cell_type": "code",
   "execution_count": 83,
   "id": "6b4e32bd-075c-4ee5-ab36-875b1e823a9a",
   "metadata": {},
   "outputs": [
    {
     "name": "stdout",
     "output_type": "stream",
     "text": [
      "[1, 2, 3, 4, 5, 6, 7, 8]\n"
     ]
    }
   ],
   "source": [
    "def deep_flatten(lst):\n",
    "    flattened = []\n",
    "    for item in lst:\n",
    "        if isinstance(item, list): \n",
    "            flattened.extend(deep_flatten(item))\n",
    "        else: \n",
    "            flattened.append(item)\n",
    "    return flattened\n",
    "\n",
    "# Example usage:\n",
    "input_list = [[[1, 2], [3, 4]], [[5, 6], [7, 8]]]\n",
    "result = deep_flatten(input_list)\n",
    "print(result)  # Output: [1, 2, 3, 4, 5, 6, 7, 8]"
   ]
  },
  {
   "cell_type": "code",
   "execution_count": 85,
   "id": "9252f0a8-a074-4a0a-b68c-634cb9d95e23",
   "metadata": {},
   "outputs": [],
   "source": [
    "# 8. Nested List Average:\n",
    "# Write a Python function that calculates the average of all elements in a nested list."
   ]
  },
  {
   "cell_type": "code",
   "execution_count": 87,
   "id": "a837572f-a2fc-4535-9647-715dced43788",
   "metadata": {},
   "outputs": [
    {
     "name": "stdout",
     "output_type": "stream",
     "text": [
      "(21, 6)\n"
     ]
    }
   ],
   "source": [
    "def average_nested(lst):\n",
    "    total, count = 0, 0\n",
    "    for item in lst:\n",
    "        if isinstance(item, list):\n",
    "            sub_total, sub_count = average_nested(item)  # Get total and count from sublist\n",
    "            total += sub_total\n",
    "            count += sub_count\n",
    "        else:\n",
    "            total += item\n",
    "            count += 1\n",
    "    return (total, count) if count else (0, 0)  # Return total and count as a tuple\n",
    "\n",
    "# Wrapper function to get only the average\n",
    "def get_average(lst):\n",
    "    total, count = average_nested(lst)\n",
    "    return total / count if count else 0\n",
    "\n",
    "# Example usage:\n",
    "input_list = [[1, 2], [3, 4], [5, 6]]\n",
    "result = average_nested(input_list)\n",
    "print(result)  # Output: 3.5"
   ]
  },
  {
   "cell_type": "code",
   "execution_count": 89,
   "id": "2e1c5d13-eea7-40e5-a861-b987003f70ec",
   "metadata": {},
   "outputs": [],
   "source": [
    "# Basic Vector and Matrix Operation with Numpy."
   ]
  },
  {
   "cell_type": "code",
   "execution_count": 91,
   "id": "b7f1393e-334b-41bc-8235-f2b253d9748d",
   "metadata": {},
   "outputs": [],
   "source": [
    "# Problem - 1: Array Creation:"
   ]
  },
  {
   "cell_type": "code",
   "execution_count": 93,
   "id": "fa63b05e-327e-4920-9f9b-52c0f5597c3f",
   "metadata": {},
   "outputs": [],
   "source": [
    "# Complete the following Tasks:\n",
    "# 1. Initialize an empty array with size 2X2.\n",
    "# 2. Initialize an all one array with size 4X2.\n",
    "# 3. Return a new array of given shape and type, filled with fill value.{Hint: np.full}\n",
    "# 4. Return a new array of zeros with same shape and type as a given array.{Hint: np.zeros like}\n",
    "# 5. Return a new array of ones with same shape and type as a given array.{Hint: np.ones like}\n",
    "# 6. For an existing list new_list = [1,2,3,4] convert to an numpy array.{Hint: np.array()}"
   ]
  },
  {
   "cell_type": "code",
   "execution_count": 105,
   "id": "c3e9bf86-3465-40a4-a6b4-72bdcbf7a137",
   "metadata": {},
   "outputs": [
    {
     "name": "stdout",
     "output_type": "stream",
     "text": [
      "1. Empty 2x2 array:\n",
      "[[2.12199579e-314 1.00370401e-311]\n",
      " [6.66000491e-321 1.00370401e-311]]\n",
      "2. All ones 4x2 array:\n",
      "\n",
      "[[1. 1.]\n",
      " [1. 1.]\n",
      " [1. 1.]\n",
      " [1. 1.]]\n",
      "3. Array filled with value 5:\n",
      "\n",
      "[[5 5 5]\n",
      " [5 5 5]\n",
      " [5 5 5]]\n",
      "4. Zeros array with same shape and type as given array:\n",
      "\n",
      "[[0 0]\n",
      " [0 0]]\n",
      "5. Ones array with same shape and type as given array:\n",
      "\n",
      "[[1 1]\n",
      " [1 1]]\n",
      "6. Converted NumPy array from list:\n",
      "\n",
      "[1 2 3 4]\n"
     ]
    }
   ],
   "source": [
    "import numpy as np\n",
    "\n",
    "# 1. Initialize an empty array with size 2x2\n",
    "empty_array = np.empty((2, 2))\n",
    "print(\"1. Empty 2x2 array:\")\n",
    "print(empty_array)\n",
    "\n",
    "# 2. Initialize an all ones array with size 4x2\n",
    "ones_array = np.ones((4, 2))\n",
    "print(\"2. All ones 4x2 array:\\n\")\n",
    "print(ones_array)\n",
    "\n",
    "# 3. Return a new array of given shape and type, filled with fill value\n",
    "fill_value_array = np.full((3, 3), 5)  # Shape: 3x3, Fill value: 5\n",
    "print(\"3. Array filled with value 5:\\n\")\n",
    "print(fill_value_array)\n",
    "\n",
    "# 4. Return a new array of zeros with same shape and type as a given array\n",
    "given_array = np.array([[1, 2], [3, 4]])\n",
    "zeros_like_array = np.zeros_like(given_array)\n",
    "print(\"4. Zeros array with same shape and type as given array:\\n\")\n",
    "print(zeros_like_array)\n",
    "\n",
    "# 5. Return a new array of ones with same shape and type as a given array\n",
    "ones_like_array = np.ones_like(given_array)\n",
    "print(\"5. Ones array with same shape and type as given array:\\n\")\n",
    "print(ones_like_array)\n",
    "\n",
    "# 6. Convert an existing list to a NumPy array\n",
    "new_list = [1, 2, 3, 4]\n",
    "numpy_array = np.array(new_list)\n",
    "print(\"6. Converted NumPy array from list:\\n\")\n",
    "print(numpy_array)"
   ]
  },
  {
   "cell_type": "code",
   "execution_count": 97,
   "id": "9411309e-4c86-450a-8142-07fd90e09941",
   "metadata": {},
   "outputs": [],
   "source": [
    "# Problem - 2: Array Manipulation: Numerical Ranges and Array indexing:"
   ]
  },
  {
   "cell_type": "code",
   "execution_count": 101,
   "id": "621127ea-4962-4398-9328-52a38921e666",
   "metadata": {},
   "outputs": [],
   "source": [
    "# Complete the following tasks:\n",
    "# 1. Create an array with values ranging from 10 to 49. {Hint:np.arrange()}.\n",
    "# 2. Create a 3X3 matrix with values ranging from 0 to 8.\n",
    "# {Hint:look for np.reshape()}\n",
    "# 3. Create a 3X3 identity matrix.{Hint:np.eye()}\n",
    "# 4. Create a random array of size 30 and find the mean of the array.\n",
    "# {Hint:check for np.random.random() and array.mean() function}\n",
    "# 5. Create a 10X10 array with random values and find the minimum and maximum values.\n",
    "# 6. Create a zero array of size 10 and replace 5th element with 1.\n",
    "# 7. Reverse an array arr = [1,2,0,0,4,0].\n",
    "# 8. Create a 2d array with 1 on border and 0 inside.\n",
    "# 9. Create a 8X8 matrix and fill it with a checkerboard pattern."
   ]
  },
  {
   "cell_type": "code",
   "execution_count": 117,
   "id": "572f479a-f50f-41c2-a2c2-f5908211408d",
   "metadata": {},
   "outputs": [
    {
     "name": "stdout",
     "output_type": "stream",
     "text": [
      "1. Array with values ranging from 10 to 49\n",
      "\n",
      "[10 11 12 13 14 15 16 17 18 19 20 21 22 23 24 25 26 27 28 29 30 31 32 33\n",
      " 34 35 36 37 38 39 40 41 42 43 44 45 46 47 48 49]\n",
      "2. 3x3 Matrix with values from 0 to 8:\n",
      "\n",
      "[[0 1 2]\n",
      " [3 4 5]\n",
      " [6 7 8]]\n",
      "3. 3x3 Identity Matrix:\n",
      "\n",
      "[[1. 0. 0.]\n",
      " [0. 1. 0.]\n",
      " [0. 0. 1.]]\n",
      "4. Random Array Mean:\n",
      "0.5047816500201\n",
      "Min Value: 0.0070704688818381545\n",
      "Max Value: 0.9700327340449103\n",
      "Modified Zero Array:\n",
      "\n",
      "[0. 0. 0. 0. 1. 0. 0. 0. 0. 0.]\n",
      "Reversed Array:\n",
      "\n",
      "[0 4 0 0 2 1]\n",
      "Border Array:\n",
      "\n",
      "[[1. 1. 1. 1. 1.]\n",
      " [1. 0. 0. 0. 1.]\n",
      " [1. 0. 0. 0. 1.]\n",
      " [1. 0. 0. 0. 1.]\n",
      " [1. 1. 1. 1. 1.]]\n",
      "Checkerboard Pattern:\n",
      "\n",
      "[[0. 1. 0. 1. 0. 1. 0. 1.]\n",
      " [1. 0. 1. 0. 1. 0. 1. 0.]\n",
      " [0. 1. 0. 1. 0. 1. 0. 1.]\n",
      " [1. 0. 1. 0. 1. 0. 1. 0.]\n",
      " [0. 1. 0. 1. 0. 1. 0. 1.]\n",
      " [1. 0. 1. 0. 1. 0. 1. 0.]\n",
      " [0. 1. 0. 1. 0. 1. 0. 1.]\n",
      " [1. 0. 1. 0. 1. 0. 1. 0.]]\n"
     ]
    }
   ],
   "source": [
    "# 1. Create an array with values ranging from 10 to 49\n",
    "range_array = np.arange(10, 50)\n",
    "print(\"1. Array with values ranging from 10 to 49\\n\")\n",
    "print(range_array)\n",
    "\n",
    "# 2. Create a 3x3 matrix with values ranging from 0 to 8\n",
    "matrix_3x3 = np.arange(9).reshape(3, 3)\n",
    "print(\"2. 3x3 Matrix with values from 0 to 8:\\n\")\n",
    "print(matrix_3x3)\n",
    "\n",
    "# 3. Create a 3x3 identity matrix\n",
    "identity_matrix = np.eye(3)\n",
    "print(\"3. 3x3 Identity Matrix:\\n\")\n",
    "print(identity_matrix)\n",
    "\n",
    "# 4. Create a random array of size 30 and find the mean of the array\n",
    "random_array = np.random.random(30)\n",
    "mean_value = random_array.mean()\n",
    "print(\"4. Random Array Mean:\")\n",
    "print(mean_value)\n",
    "\n",
    "# 5. Create a 10x10 array with random values and find the minimum and maximum values\n",
    "random_matrix = np.random.random((10, 10))\n",
    "min_value = random_matrix.min()\n",
    "max_value = random_matrix.max()\n",
    "print(\"Min Value:\", min_value)\n",
    "print(\"Max Value:\", max_value)\n",
    "\n",
    "# 6. Create a zero array of size 10 and replace the 5th element with 1\n",
    "zero_array = np.zeros(10)\n",
    "zero_array[4] = 1\n",
    "print(\"Modified Zero Array:\\n\")\n",
    "print(zero_array)\n",
    "\n",
    "# 7. Reverse an array\n",
    "array_to_reverse = np.array([1, 2, 0, 0, 4, 0])\n",
    "reversed_array = array_to_reverse[::-1]\n",
    "print(\"Reversed Array:\\n\")\n",
    "print(reversed_array)\n",
    "\n",
    "# 8. Create a 2D array with 1 on the border and 0 inside\n",
    "border_array = np.ones((5, 5))\n",
    "border_array[1:-1, 1:-1] = 0\n",
    "print(\"Border Array:\\n\")\n",
    "print(border_array)\n",
    "\n",
    "# 9. Create an 8x8 matrix and fill it with a checkerboard pattern\n",
    "checkerboard = np.zeros((8, 8))\n",
    "checkerboard[1::2, ::2] = 1\n",
    "checkerboard[::2, 1::2] = 1\n",
    "print(\"Checkerboard Pattern:\\n\")\n",
    "print(checkerboard)"
   ]
  },
  {
   "cell_type": "code",
   "execution_count": 119,
   "id": "8dffb4eb-597f-4957-be50-d95d2aa428b7",
   "metadata": {},
   "outputs": [],
   "source": [
    "# Problem - 3: Array Operations:"
   ]
  },
  {
   "cell_type": "code",
   "execution_count": 121,
   "id": "56384957-c29d-4ff4-be8b-c12d2613fb03",
   "metadata": {},
   "outputs": [],
   "source": [
    "# For the following arrays:\n",
    "# x = np.array([[1,2],[3,5]]) and y = np.array([[5,6],[7,8]]);\n",
    "# v = np.array([9,10]) and w = np.array([11,12]);\n",
    "# Complete all the task using numpy:\n",
    "# 1. Add the two array.\n",
    "# 2. Subtract the two array.\n",
    "# 3. Multiply the array with any integers of your choice.\n",
    "# 4. Find the square of each element of the array.\n",
    "# 5. Find the dot product between: v(and)w ; x(and)v ; x(and)y.\n",
    "# 6. Concatenate x(and)y along row and Concatenate v(and)w along column.\n",
    "# {Hint:try np.concatenate() or np.vstack() functions.\n",
    "# 7. Concatenate x(and)v; if you get an error, observe and explain why did you get the error?"
   ]
  },
  {
   "cell_type": "code",
   "execution_count": 123,
   "id": "0ae2c837-9ae5-4fa3-a354-491bdc9612c4",
   "metadata": {},
   "outputs": [
    {
     "name": "stdout",
     "output_type": "stream",
     "text": [
      "1. Addition of x and y:\n",
      "[[ 6  8]\n",
      " [10 13]]\n",
      "2. Subtraction of x and y:\n",
      "\n",
      "[[-4 -4]\n",
      " [-4 -3]]\n",
      "3. Multiplication of x by 3:\n",
      "\n",
      "[[ 3  6]\n",
      " [ 9 15]]\n",
      "4. Square of each element of x:\n",
      "\n",
      "[[ 1  4]\n",
      " [ 9 25]]\n",
      "5. Dot products:\n",
      "\n",
      "Dot product of v and w: 219\n",
      "Dot product of x and v: [29 77]\n",
      "Dot product of x and y: [[19 22]\n",
      " [50 58]]\n",
      "\n",
      "6. Concatenation:\n",
      "Concatenate x and y along row:\n",
      "[[1 2]\n",
      " [3 5]\n",
      " [5 6]\n",
      " [7 8]]\n",
      "Concatenate v and w along column:\n",
      "[[ 9 11]\n",
      " [10 12]]\n",
      "\n",
      "7. Error when concatenating x and v:\n",
      "Error: all the input arrays must have same number of dimensions, but the array at index 0 has 2 dimension(s) and the array at index 1 has 1 dimension(s)\n",
      "Explanation: The shapes of x and v are not compatible for concatenation along axis 0.\n"
     ]
    }
   ],
   "source": [
    "import numpy as np\n",
    "\n",
    "# Given arrays\n",
    "x = np.array([[1, 2], [3, 5]])\n",
    "y = np.array([[5, 6], [7, 8]])\n",
    "v = np.array([9, 10])\n",
    "w = np.array([11, 12])\n",
    "\n",
    "# 1. Add the two arrays\n",
    "add_result = x + y\n",
    "print(\"1. Addition of x and y:\")\n",
    "print(add_result)\n",
    "\n",
    "# 2. Subtract the two arrays\n",
    "subtract_result = x - y\n",
    "print(\"2. Subtraction of x and y:\\n\")\n",
    "print(subtract_result)\n",
    "\n",
    "# 3. Multiply the array with any integer of your choice\n",
    "multiply_result = x * 3  # Multiplying x by 3\n",
    "print(\"3. Multiplication of x by 3:\\n\")\n",
    "print(multiply_result)\n",
    "\n",
    "# 4. Find the square of each element of the array\n",
    "square_result = np.square(x)\n",
    "print(\"4. Square of each element of x:\\n\")\n",
    "print(square_result)\n",
    "\n",
    "# 5. Find the dot product between v and w; x and v; x and y\n",
    "dot_v_w = np.dot(v, w)\n",
    "dot_x_v = np.dot(x, v)\n",
    "dot_x_y = np.dot(x, y)\n",
    "print(\"5. Dot products:\\n\")\n",
    "print(\"Dot product of v and w:\", dot_v_w)\n",
    "print(\"Dot product of x and v:\", dot_x_v)\n",
    "print(\"Dot product of x and y:\", dot_x_y)\n",
    "\n",
    "# 6. Concatenate x and y along row and concatenate v and w along column\n",
    "concatenate_row = np.concatenate((x, y), axis=0)  # Along rows\n",
    "concatenate_column = np.concatenate((v[:, np.newaxis], w[:, np.newaxis]), axis=1)  # Along columns\n",
    "print(\"\\n6. Concatenation:\")\n",
    "print(\"Concatenate x and y along row:\")\n",
    "print(concatenate_row)\n",
    "print(\"Concatenate v and w along column:\")\n",
    "print(concatenate_column)\n",
    "\n",
    "# 7. Concatenate x and v; if you get an error, observe and explain why\n",
    "try:\n",
    "    concatenate_x_v = np.concatenate((x, v))\n",
    "    print(\"\\n7. Concatenate x and v:\")\n",
    "    print(concatenate_x_v)\n",
    "except ValueError as e:\n",
    "    print(\"\\n7. Error when concatenating x and v:\")\n",
    "    print(\"Error:\", e)\n",
    "    print(\"Explanation: The shapes of x and v are not compatible for concatenation along axis 0.\")"
   ]
  },
  {
   "cell_type": "code",
   "execution_count": 125,
   "id": "b66fcc1f-bc70-4d79-b768-5701bc19faef",
   "metadata": {},
   "outputs": [],
   "source": [
    "# Problem - 4: Matrix Operations:"
   ]
  },
  {
   "cell_type": "code",
   "execution_count": 127,
   "id": "b72f08b4-b3fc-4db7-9d37-055a78893b29",
   "metadata": {},
   "outputs": [],
   "source": [
    "# For the following arrays:\n",
    "# A = np.array([[3,4],[7,8]]) and B = np.array([[5,3],[2,1]]);\n",
    "# Prove following with Numpy:\n",
    "# 1. Prove A.A−1 = I.\n",
    "# 2. Prove AB ̸= BA.\n",
    "# 3. Prove (AB)\n",
    "\n",
    "# T = BTAT"
   ]
  },
  {
   "cell_type": "code",
   "execution_count": 129,
   "id": "30197e59-0b08-4f28-a966-6c94e6b628a7",
   "metadata": {},
   "outputs": [
    {
     "name": "stdout",
     "output_type": "stream",
     "text": [
      "A * A^(-1):\n",
      " [[1.0000000e+00 4.4408921e-16]\n",
      " [0.0000000e+00 1.0000000e+00]]\n",
      "AB:\n",
      " [[23 13]\n",
      " [51 29]]\n",
      "BA:\n",
      " [[36 44]\n",
      " [13 16]]\n",
      "AB != BA: True\n",
      "(AB)^T:\n",
      " [[23 51]\n",
      " [13 29]]\n",
      "B^T * A^T:\n",
      " [[23 51]\n",
      " [13 29]]\n",
      "(AB)^T == B^T * A^T: True\n",
      "Solution X:\n",
      " [ 2.  1. -2.]\n",
      "Solution X using inverse:\n",
      " [ 2.  1. -2.]\n"
     ]
    }
   ],
   "source": [
    "# Given arrays\n",
    "A = np.array([[3, 4], [7, 8]])\n",
    "B = np.array([[5, 3], [2, 1]])\n",
    "\n",
    "# 1. Prove A * A^(-1) = I\n",
    "A_inv = np.linalg.inv(A)\n",
    "identity_check = np.dot(A, A_inv)\n",
    "print(\"A * A^(-1):\\n\", identity_check)\n",
    "\n",
    "# 2. Prove AB != BA\n",
    "AB = np.dot(A, B)\n",
    "BA = np.dot(B, A)\n",
    "print(\"AB:\\n\", AB)\n",
    "print(\"BA:\\n\", BA)\n",
    "print(\"AB != BA:\", not np.array_equal(AB, BA))\n",
    "\n",
    "# 3. Prove (AB)^T = B^T * A^T\n",
    "AB_T = np.transpose(np.dot(A, B))\n",
    "B_T_A_T = np.dot(np.transpose(B), np.transpose(A))\n",
    "print(\"(AB)^T:\\n\", AB_T)\n",
    "print(\"B^T * A^T:\\n\", B_T_A_T)\n",
    "print(\"(AB)^T == B^T * A^T:\", np.array_equal(AB_T, B_T_A_T))\n",
    "\n",
    "# Solve the system of linear equations using inverse method\n",
    "A_matrix = np.array([[2, -3, 1], [1, -1, 2], [3, 1, -1]])\n",
    "B_matrix = np.array([-1, -3, 9])\n",
    "X = np.linalg.solve(A_matrix, B_matrix)\n",
    "print(\"Solution X:\\n\", X)\n",
    "\n",
    "# Solve using np.linalg.inv\n",
    "A_inv_matrix = np.linalg.inv(A_matrix)\n",
    "X_inv = np.dot(A_inv_matrix, B_matrix)\n",
    "print(\"Solution X using inverse:\\n\", X_inv)"
   ]
  },
  {
   "cell_type": "code",
   "execution_count": 131,
   "id": "205588f7-b159-4610-9d5b-53df755545d4",
   "metadata": {},
   "outputs": [],
   "source": [
    "# 10.2 Experiment: How Fast is Numpy?"
   ]
  },
  {
   "cell_type": "code",
   "execution_count": 1,
   "id": "b66e8900-3e5f-4db6-acf7-bb2946bffc62",
   "metadata": {},
   "outputs": [
    {
     "name": "stdout",
     "output_type": "stream",
     "text": [
      "1. Element-wise Addition (Python Lists):\n",
      "Time taken: 0.1047825813293457 seconds\n",
      "1. Element-wise Addition (NumPy Arrays):\n",
      "Time taken: 0.016999483108520508 seconds\n",
      "\n",
      "2. Element-wise Multiplication (Python Lists):\n",
      "Time taken: 0.1108083724975586 seconds\n",
      "2. Element-wise Multiplication (NumPy Arrays):\n",
      "Time taken: 0.013530492782592773 seconds\n",
      "\n",
      "3. Dot Product (Python Lists):\n",
      "Time taken: 0.13235139846801758 seconds\n",
      "3. Dot Product (NumPy Arrays):\n",
      "Time taken: 0.0009996891021728516 seconds\n",
      "\n",
      "4. Matrix Multiplication (Python Lists):\n",
      "Time taken: 120.32965469360352 seconds\n",
      "4. Matrix Multiplication (NumPy Arrays):\n",
      "Time taken: 1.5541505813598633 seconds\n"
     ]
    }
   ],
   "source": [
    "import numpy as np\n",
    "import time\n",
    "\n",
    "# Create two lists of size 1,000,000\n",
    "list1 = [i for i in range(1, 1000001)]\n",
    "list2 = [i for i in range(1000001, 2000001)]\n",
    "\n",
    "# Measure time for element-wise addition\n",
    "start_time = time.time()\n",
    "result = [a + b for a, b in zip(list1, list2)]\n",
    "end_time = time.time()\n",
    "\n",
    "print(\"1. Element-wise Addition (Python Lists):\")\n",
    "print(\"Time taken:\", end_time - start_time, \"seconds\")\n",
    "\n",
    "array1 = np.arange(1, 1000001)\n",
    "array2 = np.arange(1000001, 2000001)\n",
    "\n",
    "start_time = time.time()\n",
    "result = array1 + array2\n",
    "end_time = time.time()\n",
    "\n",
    "print(\"1. Element-wise Addition (NumPy Arrays):\")\n",
    "print(\"Time taken:\", end_time - start_time, \"seconds\")\n",
    "\n",
    "# Measure time for element-wise multiplication\n",
    "start_time = time.time()\n",
    "result = [a * b for a, b in zip(list1, list2)]\n",
    "end_time = time.time()\n",
    "\n",
    "print(\"\\n2. Element-wise Multiplication (Python Lists):\")\n",
    "print(\"Time taken:\", end_time - start_time, \"seconds\")\n",
    "\n",
    "start_time = time.time()\n",
    "result = array1 * array2\n",
    "end_time = time.time()\n",
    "\n",
    "print(\"2. Element-wise Multiplication (NumPy Arrays):\")\n",
    "print(\"Time taken:\", end_time - start_time, \"seconds\")\n",
    "\n",
    "# Measure time for dot product\n",
    "start_time = time.time()\n",
    "dot_product = sum(a * b for a, b in zip(list1, list2))\n",
    "end_time = time.time()\n",
    "\n",
    "print(\"\\n3. Dot Product (Python Lists):\")\n",
    "print(\"Time taken:\", end_time - start_time, \"seconds\")\n",
    "\n",
    "start_time = time.time()\n",
    "dot_product = np.dot(array1, array2)\n",
    "end_time = time.time()\n",
    "\n",
    "print(\"3. Dot Product (NumPy Arrays):\")\n",
    "print(\"Time taken:\", end_time - start_time, \"seconds\")\n",
    "\n",
    "# Create two 1000x1000 matrices \n",
    "matrix1 = [[i + j for j in range(1000)] for i in range(1000)]\n",
    "matrix2 = [[i - j for j in range(1000)] for i in range(1000)]\n",
    "\n",
    "start_time = time.time()\n",
    "result = [[sum(a * b for a, b in zip(row, col)) for col in zip(*matrix2)] for row in matrix1]\n",
    "end_time = time.time()\n",
    "\n",
    "print(\"\\n4. Matrix Multiplication (Python Lists):\")\n",
    "print(\"Time taken:\", end_time - start_time, \"seconds\")\n",
    "\n",
    "matrix1_np = np.array(matrix1)\n",
    "matrix2_np = np.array(matrix2)\n",
    "\n",
    "start_time = time.time()\n",
    "result = np.dot(matrix1_np, matrix2_np)\n",
    "end_time = time.time()\n",
    "\n",
    "print(\"4. Matrix Multiplication (NumPy Arrays):\")\n",
    "print(\"Time taken:\", end_time - start_time, \"seconds\")"
   ]
  },
  {
   "cell_type": "code",
   "execution_count": null,
   "id": "99ec141c-9395-42d3-94ab-edc7846a0637",
   "metadata": {},
   "outputs": [],
   "source": []
  }
 ],
 "metadata": {
  "kernelspec": {
   "display_name": "Python [conda env:.conda]",
   "language": "python",
   "name": "conda-env-.conda-py"
  },
  "language_info": {
   "codemirror_mode": {
    "name": "ipython",
    "version": 3
   },
   "file_extension": ".py",
   "mimetype": "text/x-python",
   "name": "python",
   "nbconvert_exporter": "python",
   "pygments_lexer": "ipython3",
   "version": "3.10.9"
  }
 },
 "nbformat": 4,
 "nbformat_minor": 5
}
